{
 "cells": [
  {
   "cell_type": "markdown",
   "id": "13277c78",
   "metadata": {},
   "source": [
    "# Affinage par LUDWIG\n",
    "\n",
    "Maintenant, pour être honnête, nous n'avons pas réellement besoin de suivre toutes ces étapes à partir de zéro pour affiner un modèle de nos jours. Nous pouvons utiliser des frameworks tels que LUDWIG."
   ]
  },
  {
   "cell_type": "markdown",
   "id": "0ec2f30d",
   "metadata": {},
   "source": [
    "![LUDWIG framework](../images/Ludwig.png)\n",
    "Cette section explique comment effectuer le fine-tuning d'un modèle de langage en utilisant Ludwig, un outil puissant qui simplifie le cycle de vie de l'apprentissage automatique. Le processus implique l'utilisation d'une configuration de modèle spécifique et d'un ensemble de données pour adapter un modèle pré-entraîné à une tâche spécialisée."
   ]
  },
  {
   "cell_type": "markdown",
   "id": "ace7b0a4",
   "metadata": {},
   "source": [
    "## Configuration\n",
    "\n",
    "Avant de commencer, assurez-vous que Ludwig est installé et configuré dans votre environnement. Vous devrez également configurer le token du Hugging Face Hub pour accéder aux modèles pré-entraînés. Ceci est réalisé en définissant la variable d'environnement HUGGING_FACE_HUB_TOKEN avec votre clé API Hugging Face :"
   ]
  },
  {
   "cell_type": "markdown",
   "id": "3e4c1ef9",
   "metadata": {},
   "source": [
    "Ludwig nécessite une configuration YAML qui décrit les paramètres du modèle et de l'entraînement. Les éléments clés de cette configuration incluent :"
   ]
  },
  {
   "cell_type": "markdown",
   "id": "bac06e16",
   "metadata": {},
   "source": [
    "## Dataset\n",
    "\n",
    "Le dataset qu'on a utilisé dans cet exemple c'est Alpaca, c'est une ressource unique destinée à l'entraînement et au fine-tuning des modèles de langue pour mieux suivre **les instructions**.\n",
    "\n",
    "![DATASET Alpaca](../images/alpaca.png)"
   ]
  },
  {
   "cell_type": "markdown",
   "id": "3ed24a23",
   "metadata": {},
   "source": [
    "## Entraînement\n",
    "\n",
    "Pour entraîner le modèle, chargez la configuration et spécifiez l'ensemble de données. La classe LudwigModel est utilisée avec la méthode train :"
   ]
  },
  {
   "cell_type": "markdown",
   "id": "c27f0336",
   "metadata": {},
   "source": [
    "## Sauvegarde du Modèle\n",
    "\n",
    "Après l'entraînement, sauvegardez le modèle pour une utilisation ou un déploiement ultérieurs :"
   ]
  },
  {
   "cell_type": "code",
   "execution_count": null,
   "id": "d48fdde9",
   "metadata": {},
   "outputs": [],
   "source": [
    "pip install ludwig ludwig[llm] peft"
   ]
  },
  {
   "cell_type": "code",
   "execution_count": null,
   "id": "ce489268",
   "metadata": {},
   "outputs": [],
   "source": [
    "import os\n",
    "os.environ[\"HUGGING_FACE_HUB_TOKEN\"] = os.getenv('HUGGINGFACE_API_KEY')"
   ]
  },
  {
   "cell_type": "code",
   "execution_count": null,
   "id": "ed79be67",
   "metadata": {},
   "outputs": [],
   "source": [
    "model_type: llm\n",
    "base_model: mistralai/Mistral-7B-v0.1\n",
    "quantization:\n",
    "    bits: 4\n",
    "adapter:\n",
    "    type: lora\n",
    "prompt:\n",
    "    template: |\n",
    "        ### Instruction :\n",
    "        {instruction}\n",
    "        ### Entrée :\n",
    "        {input}\n",
    "        ### Réponse :\n",
    "input_features:\n",
    "    - name: prompt\n",
    "      type: text\n",
    "output_features:\n",
    "    - name: output\n",
    "      type: text\n",
    "trainer:\n",
    "    type: finetune"
   ]
  },
  {
   "cell_type": "code",
   "execution_count": null,
   "id": "0c5a6bb2",
   "metadata": {},
   "outputs": [],
   "source": [
    "from ludwig.api import LudwigModel\n",
    "import yaml\n",
    "import logging\n",
    "\n",
    "# Placeholder for actual YAML configuration string\n",
    "config_str = '...'\n",
    "config = yaml.safe_load(config_str)\n",
    "model = LudwigModel(config=config, logging_level=logging.INFO)\n",
    "results = model.train(dataset=\"ludwig://alpaca\")"
   ]
  },
  {
   "cell_type": "code",
   "execution_count": null,
   "id": "246c702b",
   "metadata": {},
   "outputs": [],
   "source": [
    "model.save(\"results\")"
   ]
  },
  {
   "cell_type": "code",
   "execution_count": null,
   "id": "55cc7046",
   "metadata": {},
   "outputs": [],
   "source": [
    "# Placeholder for actual command to upload model to Hugging Face\n",
    "# This is a mock command and won't execute as is.\n",
    "# python -m ludwig.upload hf_hub --repo_id \"your_repo_id\" --model_path \"path_to_your_model\""
   ]
  }
 ],
 "metadata": {},
 "nbformat": 4,
 "nbformat_minor": 5
}
